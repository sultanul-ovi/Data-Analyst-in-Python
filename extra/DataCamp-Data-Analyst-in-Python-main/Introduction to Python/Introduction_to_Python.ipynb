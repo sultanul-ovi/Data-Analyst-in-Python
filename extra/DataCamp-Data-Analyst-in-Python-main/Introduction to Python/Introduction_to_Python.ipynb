{
  "nbformat": 4,
  "nbformat_minor": 0,
  "metadata": {
    "colab": {
      "provenance": [],
      "toc_visible": true
    },
    "kernelspec": {
      "name": "python3",
      "display_name": "Python 3"
    },
    "language_info": {
      "name": "python"
    }
  },
  "cells": [
    {
      "cell_type": "markdown",
      "source": [
        "#Python Basics"
      ],
      "metadata": {
        "id": "NaY7Vnb_Ltc1"
      }
    },
    {
      "cell_type": "code",
      "execution_count": null,
      "metadata": {
        "colab": {
          "base_uri": "https://localhost:8080/"
        },
        "id": "VXSwCDW8LcSx",
        "outputId": "35056b23-efb4-487a-850e-0839cdf9f727"
      },
      "outputs": [
        {
          "output_type": "stream",
          "name": "stdout",
          "text": [
            "0.625\n"
          ]
        }
      ],
      "source": [
        "# Hit run code to see the output!\n",
        "print(5 / 8)"
      ]
    },
    {
      "cell_type": "code",
      "source": [
        "# Addition\n",
        "print(4 + 5)\n",
        "\n",
        "# Subtraction\n",
        "print(5 - 5)\n",
        "\n",
        "# Multiplication\n",
        "print(3 * 5)\n",
        "\n",
        "# Division\n",
        "print(10 / 2)"
      ],
      "metadata": {
        "colab": {
          "base_uri": "https://localhost:8080/"
        },
        "id": "Fu6rhKlgLd6V",
        "outputId": "65f9da8f-62d7-422c-df86-77afc1994cd4"
      },
      "execution_count": null,
      "outputs": [
        {
          "output_type": "stream",
          "name": "stdout",
          "text": [
            "9\n",
            "0\n",
            "15\n",
            "5.0\n"
          ]
        }
      ]
    },
    {
      "cell_type": "code",
      "source": [
        "# Create the variable\n",
        "savings = 100\n",
        "\n",
        "# Print the value of the variable\n",
        "print(savings)\n"
      ],
      "metadata": {
        "colab": {
          "base_uri": "https://localhost:8080/"
        },
        "id": "kCnaRY42L3Wc",
        "outputId": "54d8a8ea-208e-4240-ae8e-4882110eaeae"
      },
      "execution_count": null,
      "outputs": [
        {
          "output_type": "stream",
          "name": "stdout",
          "text": [
            "100\n"
          ]
        }
      ]
    },
    {
      "cell_type": "code",
      "source": [
        "# Create variables\n",
        "monthly_savings = 10\n",
        "num_months = 4\n",
        "\n",
        "# Perform the calculation and assign it to new_savings\n",
        "new_savings = monthly_savings * num_months\n",
        "\n",
        "# Print the result\n",
        "print(new_savings)\n"
      ],
      "metadata": {
        "colab": {
          "base_uri": "https://localhost:8080/"
        },
        "id": "G18QtlqdL5Pk",
        "outputId": "a5e4e744-5835-4c8c-ed4e-2df659f98247"
      },
      "execution_count": null,
      "outputs": [
        {
          "output_type": "stream",
          "name": "stdout",
          "text": [
            "40\n"
          ]
        }
      ]
    },
    {
      "cell_type": "code",
      "source": [
        "# Create a float variable\n",
        "half = 0.5\n",
        "\n",
        "# Create a string variable\n",
        "intro = \"Hello! How are you?\"\n",
        "\n",
        "# Create a boolean variable\n",
        "is_good = True\n"
      ],
      "metadata": {
        "id": "3y27NmroL6w0"
      },
      "execution_count": null,
      "outputs": []
    },
    {
      "cell_type": "code",
      "source": [
        "savings = 100\n",
        "new_savings = 40\n",
        "\n",
        "# Add savings and new_savings\n",
        "total_savings = savings + new_savings\n",
        "\n",
        "# Print the type of total_savings\n",
        "print(total_savings)"
      ],
      "metadata": {
        "colab": {
          "base_uri": "https://localhost:8080/"
        },
        "id": "IqCp0wR4L8Qc",
        "outputId": "291eccf8-5c59-4051-8c04-a6ca4a6cbd29"
      },
      "execution_count": null,
      "outputs": [
        {
          "output_type": "stream",
          "name": "stdout",
          "text": [
            "140\n"
          ]
        }
      ]
    },
    {
      "cell_type": "markdown",
      "source": [
        "#Python List"
      ],
      "metadata": {
        "id": "KFY4q13BMjKn"
      }
    },
    {
      "cell_type": "code",
      "source": [
        "hall = 11.25\n",
        "kit = 18.0\n",
        "liv = 20.0\n",
        "bed = 10.75\n",
        "bath = 9.50\n",
        "\n",
        "# Create list areas\n",
        "areas = [hall, kit, liv, bed, bath]\n",
        "\n",
        "# Print areas\n",
        "print(areas)"
      ],
      "metadata": {
        "colab": {
          "base_uri": "https://localhost:8080/"
        },
        "id": "Kdy8k2cXL-wz",
        "outputId": "913e6c9d-321d-40aa-a476-43930d42d781"
      },
      "execution_count": null,
      "outputs": [
        {
          "output_type": "stream",
          "name": "stdout",
          "text": [
            "[11.25, 18.0, 20.0, 10.75, 9.5]\n"
          ]
        }
      ]
    },
    {
      "cell_type": "code",
      "source": [
        "hall = 11.25\n",
        "kit = 18.0\n",
        "liv = 20.0\n",
        "bed = 10.75\n",
        "bath = 9.50\n",
        "\n",
        "# Adapt list areas\n",
        "areas = [\"hallway\", hall, \"kitchen\", kit, \"living room\", liv, \"bedroom\", bed, \"bathroom\", bath]\n",
        "\n",
        "# Print areas\n",
        "print(areas)"
      ],
      "metadata": {
        "colab": {
          "base_uri": "https://localhost:8080/"
        },
        "id": "XeCiNSCrMyD-",
        "outputId": "a7aed10c-0f91-4375-c0f7-8142cfc34187"
      },
      "execution_count": null,
      "outputs": [
        {
          "output_type": "stream",
          "name": "stdout",
          "text": [
            "['hallway', 11.25, 'kitchen', 18.0, 'living room', 20.0, 'bedroom', 10.75, 'bathroom', 9.5]\n"
          ]
        }
      ]
    },
    {
      "cell_type": "code",
      "source": [
        "hall = 11.25\n",
        "kit = 18.0\n",
        "liv = 20.0\n",
        "bed = 10.75\n",
        "bath = 9.50\n",
        "\n",
        "# House information as list of lists\n",
        "house = [[\"hallway\", hall],\n",
        "         [\"kitchen\", kit],\n",
        "         [\"living room\", liv],\n",
        "         [\"bedroom\", bed],\n",
        "         [\"bathroom\", bath]]\n",
        "\n",
        "# Print out house\n",
        "print(house)"
      ],
      "metadata": {
        "colab": {
          "base_uri": "https://localhost:8080/"
        },
        "id": "q0kW3aTPM6oW",
        "outputId": "cc8df5df-2ddd-4c65-b754-f809c1a59681"
      },
      "execution_count": null,
      "outputs": [
        {
          "output_type": "stream",
          "name": "stdout",
          "text": [
            "[['hallway', 11.25], ['kitchen', 18.0], ['living room', 20.0], ['bedroom', 10.75], ['bathroom', 9.5]]\n"
          ]
        }
      ]
    },
    {
      "cell_type": "code",
      "source": [
        "# Create the areas list\n",
        "areas = [\"hallway\", 11.25, \"kitchen\", 18.0, \"living room\", 20.0, \"bedroom\", 10.75, \"bathroom\", 9.50]\n",
        "\n",
        "# Print out second element from areas\n",
        "print(areas[1])\n",
        "\n",
        "# Print out last element from areas\n",
        "print(areas[-1])\n",
        "\n",
        "# Print out the area of the living room\n",
        "print(areas[5])"
      ],
      "metadata": {
        "colab": {
          "base_uri": "https://localhost:8080/"
        },
        "id": "3OX157cjM9Ze",
        "outputId": "33c8740e-7f02-4e90-f1bc-4a6f7b7b16b8"
      },
      "execution_count": null,
      "outputs": [
        {
          "output_type": "stream",
          "name": "stdout",
          "text": [
            "11.25\n",
            "9.5\n",
            "20.0\n"
          ]
        }
      ]
    },
    {
      "cell_type": "code",
      "source": [
        "# Create the areas list\n",
        "areas = [\"hallway\", 11.25, \"kitchen\", 18.0, \"living room\", 20.0, \"bedroom\", 10.75, \"bathroom\", 9.50]\n",
        "\n",
        "# Use slicing to create downstairs\n",
        "downstairs = areas[0:6]\n",
        "\n",
        "# Use slicing to create upstairs\n",
        "upstairs = areas[6:]\n",
        "\n",
        "# Print out downstairs and upstairs\n",
        "print(downstairs)\n",
        "print(upstairs)"
      ],
      "metadata": {
        "colab": {
          "base_uri": "https://localhost:8080/"
        },
        "id": "KyT9i37gM_EW",
        "outputId": "8c767248-0ef0-4fa2-d878-c8ff0e2374a5"
      },
      "execution_count": null,
      "outputs": [
        {
          "output_type": "stream",
          "name": "stdout",
          "text": [
            "['hallway', 11.25, 'kitchen', 18.0, 'living room', 20.0]\n",
            "['bedroom', 10.75, 'bathroom', 9.5]\n"
          ]
        }
      ]
    },
    {
      "cell_type": "code",
      "source": [
        "house = [[\"hallway\", 11.25],\n",
        "         [\"kitchen\", 18.0],\n",
        "         [\"living room\", 20.0],\n",
        "         [\"bedroom\", 10.75],\n",
        "         [\"bathroom\", 9.50]]\n",
        "\n",
        "# Subset the house list\n",
        "house[-1][1]"
      ],
      "metadata": {
        "colab": {
          "base_uri": "https://localhost:8080/"
        },
        "id": "lTzkZPjZNA4F",
        "outputId": "8f45bc6b-3d98-47e9-f3b5-d41068ffbe21"
      },
      "execution_count": null,
      "outputs": [
        {
          "output_type": "execute_result",
          "data": {
            "text/plain": [
              "9.5"
            ]
          },
          "metadata": {},
          "execution_count": 23
        }
      ]
    },
    {
      "cell_type": "code",
      "source": [
        "# Create the areas list\n",
        "areas = [\"hallway\", 11.25, \"kitchen\", 18.0, \"living room\", 20.0, \"bedroom\", 10.75, \"bathroom\", 9.50]\n",
        "\n",
        "# Correct the bathroom area\n",
        "areas[-1] = 10.50\n",
        "\n",
        "# Change \"living room\" to \"chill zone\"\n",
        "areas[4] = \"chill zone\""
      ],
      "metadata": {
        "id": "vfhDsGUrNC0W"
      },
      "execution_count": null,
      "outputs": []
    },
    {
      "cell_type": "code",
      "source": [
        "# Create the areas list (updated version)\n",
        "areas = [\"hallway\", 11.25, \"kitchen\", 18.0, \"chill zone\", 20.0,\n",
        "         \"bedroom\", 10.75, \"bathroom\", 10.50]\n",
        "\n",
        "# Add poolhouse data to areas, new list is areas_1\n",
        "areas_1 = areas + [\"poolhouse\", 24.5]\n",
        "\n",
        "# Add garage data to areas_1, new list is areas_2\n",
        "areas_2 = areas_1 + [\"garage\", 15.45]"
      ],
      "metadata": {
        "id": "a-oMYD2INEIl"
      },
      "execution_count": null,
      "outputs": []
    },
    {
      "cell_type": "code",
      "source": [
        "areas = [\"hallway\", 11.25, \"kitchen\", 18.0,\n",
        "        \"chill zone\", 20.0, \"bedroom\", 10.75,\n",
        "         \"bathroom\", 10.50, \"poolhouse\", 24.5,\n",
        "         \"garage\", 15.45]\n",
        "\n",
        "# Delete the poolhouse items from the list\n",
        "del areas[10]\n",
        "del areas[10]\n",
        "\n",
        "# Print the updated list\n",
        "print(areas)"
      ],
      "metadata": {
        "colab": {
          "base_uri": "https://localhost:8080/"
        },
        "id": "yeBu2lJhNFn-",
        "outputId": "ac97dfc8-68e3-4d57-86df-3760c7e83954"
      },
      "execution_count": null,
      "outputs": [
        {
          "output_type": "stream",
          "name": "stdout",
          "text": [
            "['hallway', 11.25, 'kitchen', 18.0, 'chill zone', 20.0, 'bedroom', 10.75, 'bathroom', 10.5, 'garage', 15.45]\n"
          ]
        }
      ]
    },
    {
      "cell_type": "code",
      "source": [
        "# Create list areas\n",
        "areas = [11.25, 18.0, 20.0, 10.75, 9.50]\n",
        "\n",
        "# Change this command\n",
        "areas_copy = areas\n",
        "\n",
        "# Change areas_copy\n",
        "areas_copy[0] = 5.0\n",
        "\n",
        "# Print areas\n",
        "print(areas)"
      ],
      "metadata": {
        "colab": {
          "base_uri": "https://localhost:8080/"
        },
        "id": "xwcdSUT-NHCu",
        "outputId": "c9c7c6a9-da16-456b-86a9-70f20e4eb183"
      },
      "execution_count": null,
      "outputs": [
        {
          "output_type": "stream",
          "name": "stdout",
          "text": [
            "[5.0, 18.0, 20.0, 10.75, 9.5]\n"
          ]
        }
      ]
    },
    {
      "cell_type": "markdown",
      "source": [
        "#Functions and Packages"
      ],
      "metadata": {
        "id": "ucJqq4BTPQX4"
      }
    },
    {
      "cell_type": "code",
      "source": [
        "# Create variables var1 and var2\n",
        "var1 = [1, 2, 3, 4]\n",
        "var2 = True\n",
        "\n",
        "# Print out type of var1\n",
        "print(type(var1))\n",
        "\n",
        "# Print out length of var1\n",
        "print(len(var1))\n",
        "\n",
        "# Convert var2 to an integer: out2\n",
        "out2 = int(var2)"
      ],
      "metadata": {
        "colab": {
          "base_uri": "https://localhost:8080/"
        },
        "id": "RBnFR3DJNJwm",
        "outputId": "bb3b0f59-3803-49f6-e8dc-31a29611c104"
      },
      "execution_count": null,
      "outputs": [
        {
          "output_type": "stream",
          "name": "stdout",
          "text": [
            "<class 'list'>\n",
            "4\n"
          ]
        }
      ]
    },
    {
      "cell_type": "code",
      "source": [
        "help(max)\n",
        "?max"
      ],
      "metadata": {
        "colab": {
          "base_uri": "https://localhost:8080/"
        },
        "id": "S2UtA1HOQN5y",
        "outputId": "8cd0fe1c-d67c-4297-c646-060e01c634a0"
      },
      "execution_count": null,
      "outputs": [
        {
          "output_type": "stream",
          "name": "stdout",
          "text": [
            "Help on built-in function max in module builtins:\n",
            "\n",
            "max(...)\n",
            "    max(iterable, *[, default=obj, key=func]) -> value\n",
            "    max(arg1, arg2, *args, *[, key=func]) -> value\n",
            "    \n",
            "    With a single iterable argument, return its biggest item. The\n",
            "    default keyword-only argument specifies an object to return if\n",
            "    the provided iterable is empty.\n",
            "    With two or more arguments, return the largest argument.\n",
            "\n"
          ]
        }
      ]
    },
    {
      "cell_type": "code",
      "source": [
        "# Create lists first and second\n",
        "first = [11.25, 18.0, 20.0]\n",
        "second = [10.75, 9.50]\n",
        "\n",
        "# Paste together first and second: full\n",
        "full = first + second\n",
        "\n",
        "# Sort full in descending order: full_sorted\n",
        "full_sorted = sorted(full, reverse=True)\n",
        "\n",
        "# Print out full_sorted\n",
        "print(full_sorted)"
      ],
      "metadata": {
        "colab": {
          "base_uri": "https://localhost:8080/"
        },
        "id": "9lJnlwb5PSpQ",
        "outputId": "a3ac22db-4786-40b9-f544-fa256732abb3"
      },
      "execution_count": null,
      "outputs": [
        {
          "output_type": "stream",
          "name": "stdout",
          "text": [
            "[20.0, 18.0, 11.25, 10.75, 9.5]\n"
          ]
        }
      ]
    },
    {
      "cell_type": "code",
      "source": [
        "# string to experiment with: place\n",
        "place = \"poolhouse\"\n",
        "\n",
        "# Use upper() on place\n",
        "place_up = place.upper()\n",
        "\n",
        "# Print out place and place_up\n",
        "print(place)\n",
        "print(place_up)\n",
        "\n",
        "# Print out the number of o's in place\n",
        "print(place.count('o'))"
      ],
      "metadata": {
        "colab": {
          "base_uri": "https://localhost:8080/"
        },
        "id": "DXZ9Iv0tPrb5",
        "outputId": "7a8d621b-d359-4656-ce25-d64f283cb8c3"
      },
      "execution_count": null,
      "outputs": [
        {
          "output_type": "stream",
          "name": "stdout",
          "text": [
            "poolhouse\n",
            "POOLHOUSE\n",
            "3\n"
          ]
        }
      ]
    },
    {
      "cell_type": "code",
      "source": [
        "# Create list areas\n",
        "areas = [11.25, 18.0, 20.0, 10.75, 9.50]\n",
        "\n",
        "# Print out the index of the element 20.0\n",
        "print(areas.index(20.0))\n",
        "\n",
        "# Print out how often 9.50 appears in areas\n",
        "print(areas.count(9.50))"
      ],
      "metadata": {
        "colab": {
          "base_uri": "https://localhost:8080/"
        },
        "id": "cGhQGF0rPtjA",
        "outputId": "971a968a-c4ea-424d-8498-90f12abbbec0"
      },
      "execution_count": null,
      "outputs": [
        {
          "output_type": "stream",
          "name": "stdout",
          "text": [
            "2\n",
            "1\n"
          ]
        }
      ]
    },
    {
      "cell_type": "code",
      "source": [
        "# Create list areas\n",
        "areas = [11.25, 18.0, 20.0, 10.75, 9.50]\n",
        "\n",
        "# Use append twice to add poolhouse and garage size\n",
        "areas.append(24.5)\n",
        "areas.append(15.45)\n",
        "\n",
        "# Print out areas\n",
        "print(areas)\n",
        "\n",
        "# Reverse the orders of the elements in areas\n",
        "areas.reverse()\n",
        "\n",
        "# Print out areas\n",
        "print(areas)"
      ],
      "metadata": {
        "colab": {
          "base_uri": "https://localhost:8080/"
        },
        "id": "RsIWYRAgPwG5",
        "outputId": "e0bf4580-42d7-412a-b2ce-095b3aa54e72"
      },
      "execution_count": null,
      "outputs": [
        {
          "output_type": "stream",
          "name": "stdout",
          "text": [
            "[11.25, 18.0, 20.0, 10.75, 9.5, 24.5, 15.45]\n",
            "[15.45, 24.5, 9.5, 10.75, 20.0, 18.0, 11.25]\n"
          ]
        }
      ]
    },
    {
      "cell_type": "code",
      "source": [
        "# Import the math package\n",
        "import math\n",
        "\n",
        "# Calculate C\n",
        "C = 2 * 0.43 * math.pi\n",
        "\n",
        "# Calculate A\n",
        "A = math.pi * 0.43 ** 2\n",
        "\n",
        "print(\"Circumference: \" + str(C))\n",
        "print(\"Area: \" + str(A))"
      ],
      "metadata": {
        "colab": {
          "base_uri": "https://localhost:8080/"
        },
        "id": "kvGVo87sPysx",
        "outputId": "ab057dd7-47cf-4b38-943b-c3d5e2558694"
      },
      "execution_count": null,
      "outputs": [
        {
          "output_type": "stream",
          "name": "stdout",
          "text": [
            "Circumference: 2.701769682087222\n",
            "Area: 0.5808804816487527\n"
          ]
        }
      ]
    },
    {
      "cell_type": "code",
      "source": [
        "# Import pi function of math package\n",
        "from math import pi\n",
        "\n",
        "# Calculate C\n",
        "C = 2 * 0.43 * pi\n",
        "\n",
        "# Calculate A\n",
        "A = pi * 0.43 ** 2\n",
        "\n",
        "print(\"Circumference: \" + str(C))\n",
        "print(\"Area: \" + str(A))"
      ],
      "metadata": {
        "colab": {
          "base_uri": "https://localhost:8080/"
        },
        "id": "nC667hrvP3-J",
        "outputId": "1c45d838-c6fb-4d91-9713-b90a2f02631d"
      },
      "execution_count": null,
      "outputs": [
        {
          "output_type": "stream",
          "name": "stdout",
          "text": [
            "Circumference: 2.701769682087222\n",
            "Area: 0.5808804816487527\n"
          ]
        }
      ]
    },
    {
      "cell_type": "code",
      "source": [
        "from scipy.linalg import inv as my_inv\n",
        "my_inv([[1,2], [3,4]])"
      ],
      "metadata": {
        "colab": {
          "base_uri": "https://localhost:8080/"
        },
        "id": "clK3MdgRP6Sx",
        "outputId": "2ee1ccfb-58a0-4f42-bf71-dfa43000f2a3"
      },
      "execution_count": null,
      "outputs": [
        {
          "output_type": "execute_result",
          "data": {
            "text/plain": [
              "array([[-2. ,  1. ],\n",
              "       [ 1.5, -0.5]])"
            ]
          },
          "metadata": {},
          "execution_count": 37
        }
      ]
    },
    {
      "cell_type": "markdown",
      "source": [
        "\n",
        "#NumPy"
      ],
      "metadata": {
        "id": "8hxN8q9wQghE"
      }
    },
    {
      "cell_type": "code",
      "source": [
        "# Import the numpy package as np\n",
        "import numpy as np\n",
        "\n",
        "baseball = [180, 215, 210, 210, 188, 176, 209, 200]\n",
        "\n",
        "# Create a NumPy array from baseball: np_baseball\n",
        "np_baseball = np.array(baseball)\n",
        "\n",
        "# Print out type of np_baseball\n",
        "print(type(np_baseball))"
      ],
      "metadata": {
        "colab": {
          "base_uri": "https://localhost:8080/"
        },
        "id": "eTBrlW56QDlx",
        "outputId": "8bb97c40-ece4-4d0f-ac30-9ec90d4a7d62"
      },
      "execution_count": null,
      "outputs": [
        {
          "output_type": "stream",
          "name": "stdout",
          "text": [
            "<class 'numpy.ndarray'>\n"
          ]
        }
      ]
    },
    {
      "cell_type": "code",
      "source": [
        "# Import numpy\n",
        "import numpy as np\n",
        "\n",
        "# Define height_in as a list of values\n",
        "height_in = [65, 70, 72, 68]  # Replace these values with the actual heights in inches\n",
        "\n",
        "# Create a numpy array from height_in\n",
        "np_height_in = np.array(height_in)\n",
        "\n",
        "# Print out np_height_in\n",
        "print(np_height_in)\n",
        "\n",
        "# Convert np_height_in to meters\n",
        "np_height_m = np_height_in * 0.0254\n",
        "\n",
        "# Print np_height_m\n",
        "print(np_height_m)"
      ],
      "metadata": {
        "colab": {
          "base_uri": "https://localhost:8080/"
        },
        "id": "esptHx-wQolx",
        "outputId": "244459c7-8a7c-439c-f655-f4d88e0cfd9a"
      },
      "execution_count": null,
      "outputs": [
        {
          "output_type": "stream",
          "name": "stdout",
          "text": [
            "[65 70 72 68]\n",
            "[1.651  1.778  1.8288 1.7272]\n"
          ]
        }
      ]
    },
    {
      "cell_type": "code",
      "source": [
        "np.array([True, 1, 2, 3, 4, False])"
      ],
      "metadata": {
        "colab": {
          "base_uri": "https://localhost:8080/"
        },
        "id": "pfCV9w5NQrFK",
        "outputId": "bc0b3aef-d4ec-48f8-b5f2-7d600cce1778"
      },
      "execution_count": null,
      "outputs": [
        {
          "output_type": "execute_result",
          "data": {
            "text/plain": [
              "array([1, 1, 2, 3, 4, 0])"
            ]
          },
          "metadata": {},
          "execution_count": 41
        }
      ]
    },
    {
      "cell_type": "code",
      "source": [
        "np.array([4, 3, 0]) + np.array([0, 2, 2])"
      ],
      "metadata": {
        "colab": {
          "base_uri": "https://localhost:8080/"
        },
        "id": "8wk0DuM8Q0KZ",
        "outputId": "1538499e-9ddd-4f38-e31c-4392619fcb08"
      },
      "execution_count": null,
      "outputs": [
        {
          "output_type": "execute_result",
          "data": {
            "text/plain": [
              "array([4, 5, 2])"
            ]
          },
          "metadata": {},
          "execution_count": 42
        }
      ]
    },
    {
      "cell_type": "code",
      "source": [
        "np.array([1, 1, 2]) + np.array([3, 4, -1])"
      ],
      "metadata": {
        "colab": {
          "base_uri": "https://localhost:8080/"
        },
        "id": "6xo2OFt-Q3t6",
        "outputId": "8afc72ea-f0ac-4b56-c2a6-6a63a7c0339f"
      },
      "execution_count": null,
      "outputs": [
        {
          "output_type": "execute_result",
          "data": {
            "text/plain": [
              "array([4, 5, 1])"
            ]
          },
          "metadata": {},
          "execution_count": 43
        }
      ]
    },
    {
      "cell_type": "code",
      "source": [
        "np.array([0, 1, 2, 3, 4, 5])"
      ],
      "metadata": {
        "colab": {
          "base_uri": "https://localhost:8080/"
        },
        "id": "MCw8tdbIQ43C",
        "outputId": "e19f4251-5efd-449d-e949-1ad8a71ec59f"
      },
      "execution_count": null,
      "outputs": [
        {
          "output_type": "execute_result",
          "data": {
            "text/plain": [
              "array([0, 1, 2, 3, 4, 5])"
            ]
          },
          "metadata": {},
          "execution_count": 44
        }
      ]
    },
    {
      "source": [
        "import numpy as np\n",
        "\n",
        "# Define the weight_lb and height_in lists (replace with actual data)\n",
        "weight_lb = [150, 160, 170, 180, 190, 200]  # Example values\n",
        "height_in = [60, 62, 64, 66, 68, 70]  # Example values\n",
        "\n",
        "# Create numpy arrays\n",
        "np_weight_lb = np.array(weight_lb)\n",
        "np_height_in = np.array(height_in)\n",
        "\n",
        "# Print out the weight at index 50\n",
        "print(np_weight_lb[0]) # Since weight_lb is a short list, changed 50 to 0 for demonstration purpose\n",
        "\n",
        "# Print out sub-array of np_height_in: index 0 up to and including index 5\n",
        "print(np_height_in[0:6]) # Since height_in is a short list, changed index for demonstration purpose"
      ],
      "cell_type": "code",
      "metadata": {
        "colab": {
          "base_uri": "https://localhost:8080/"
        },
        "id": "jBxZWf5QRohl",
        "outputId": "6fef0f33-6f3c-45d8-e297-545a0994e905"
      },
      "execution_count": null,
      "outputs": [
        {
          "output_type": "stream",
          "name": "stdout",
          "text": [
            "150\n",
            "[60 62 64 66 68 70]\n"
          ]
        }
      ]
    },
    {
      "cell_type": "code",
      "source": [
        "import numpy as np\n",
        "\n",
        "baseball = [[180, 78.4],\n",
        "            [215, 102.7],\n",
        "            [210, 98.5],\n",
        "            [188, 75.2]]\n",
        "\n",
        "# Create a 2D numpy array from baseball: np_baseball\n",
        "np_baseball = np.array(baseball)\n",
        "\n",
        "# Print out the type of np_baseball\n",
        "print(type(np_baseball))\n",
        "\n",
        "# Print out the shape of np_baseball\n",
        "print(np_baseball.shape)"
      ],
      "metadata": {
        "colab": {
          "base_uri": "https://localhost:8080/"
        },
        "id": "lTkX9gGARhus",
        "outputId": "befe9810-756e-42a9-ed2f-68771d070967"
      },
      "execution_count": null,
      "outputs": [
        {
          "output_type": "stream",
          "name": "stdout",
          "text": [
            "<class 'numpy.ndarray'>\n",
            "(4, 2)\n"
          ]
        }
      ]
    },
    {
      "cell_type": "code",
      "source": [
        "import numpy as np\n",
        "\n",
        "# Create a 2D numpy array from baseball: np_baseball\n",
        "np_baseball = np.array(baseball)\n",
        "\n",
        "# Print out the shape of np_baseball\n",
        "print(np_baseball.shape)"
      ],
      "metadata": {
        "colab": {
          "base_uri": "https://localhost:8080/"
        },
        "id": "OazGchOYRvDz",
        "outputId": "d1bd2361-dcb1-4524-9b2c-84f2d618a331"
      },
      "execution_count": null,
      "outputs": [
        {
          "output_type": "stream",
          "name": "stdout",
          "text": [
            "(4, 2)\n"
          ]
        }
      ]
    },
    {
      "cell_type": "code",
      "source": [
        "import numpy as np\n",
        "\n",
        "np_baseball = np.array(baseball)\n",
        "\n",
        "# Print out the first row of np_baseball (index 0)\n",
        "print(np_baseball[0,:])\n",
        "\n",
        "# Select the entire second column of np_baseball: np_weight_lb\n",
        "np_weight_lb = np_baseball[:,1]\n",
        "\n",
        "# Print out height of first player (index 0)\n",
        "print(np_baseball[0, 0])"
      ],
      "metadata": {
        "colab": {
          "base_uri": "https://localhost:8080/"
        },
        "id": "qB1gY0FSR04S",
        "outputId": "1a1456f2-9c89-40a3-a60a-5e8d6ed8de96"
      },
      "execution_count": null,
      "outputs": [
        {
          "output_type": "stream",
          "name": "stdout",
          "text": [
            "[180.   78.4]\n",
            "180.0\n"
          ]
        }
      ]
    },
    {
      "cell_type": "code",
      "source": [
        "import numpy as np\n",
        "\n",
        "np_baseball = np.array(baseball)\n",
        "\n",
        "# Assuming 'updated' should be a NumPy array with the same shape as 'np_baseball'\n",
        "# Replace this with the actual values you want for 'updated'\n",
        "updated = np.array([[1, 2], [3, 4], [5, 6], [7, 8]])\n",
        "\n",
        "# Print out addition of np_baseball and updated\n",
        "print(np_baseball + updated)\n",
        "\n",
        "# Create numpy array: conversion\n",
        "conversion = np.array([0.0254, 0.453592, 1])"
      ],
      "metadata": {
        "colab": {
          "base_uri": "https://localhost:8080/"
        },
        "id": "9A2zXW3yR3Nz",
        "outputId": "3b5d69e8-9419-4635-cd81-4aa4c08eae13"
      },
      "execution_count": null,
      "outputs": [
        {
          "output_type": "stream",
          "name": "stdout",
          "text": [
            "[[181.   80.4]\n",
            " [218.  106.7]\n",
            " [215.  104.5]\n",
            " [195.   83.2]]\n"
          ]
        }
      ]
    },
    {
      "cell_type": "code",
      "source": [
        "import numpy as np\n",
        "\n",
        "# Create np_height_in from np_baseball\n",
        "np_height_in = np_baseball[:,0]\n",
        "\n",
        "# Print out the mean of np_height_in\n",
        "print(np.mean(np_height_in))\n",
        "\n",
        "# Print out the median of np_height_in\n",
        "print(np.median(np_height_in))"
      ],
      "metadata": {
        "colab": {
          "base_uri": "https://localhost:8080/"
        },
        "id": "dQ6yYEu-R_Oj",
        "outputId": "b1e93d94-e1e1-4421-f07f-6392a1d3a2b7"
      },
      "execution_count": null,
      "outputs": [
        {
          "output_type": "stream",
          "name": "stdout",
          "text": [
            "198.25\n",
            "199.0\n"
          ]
        }
      ]
    },
    {
      "cell_type": "code",
      "source": [
        "avg = np.mean(np_baseball[:,0])\n",
        "print(\"Average: \" + str(avg))\n",
        "\n",
        "# Print median height\n",
        "med = np.median(np_baseball[:,0])\n",
        "print(\"Median: \" + str(med))\n",
        "\n",
        "# Print out the standard deviation on height\n",
        "stddev = np.std(np_baseball[:,0])\n",
        "print(\"Standard Deviation: \" + str(stddev))\n",
        "\n",
        "# Print out correlation between first and second column\n",
        "corr = np.corrcoef(np_baseball[:,0], np_baseball[:,1])\n",
        "print(\"Correlation: \" + str(corr))"
      ],
      "metadata": {
        "id": "cngaiq17SFlL",
        "outputId": "a10f2f15-eaa6-4010-a02a-b4584787a84c",
        "colab": {
          "base_uri": "https://localhost:8080/"
        }
      },
      "execution_count": null,
      "outputs": [
        {
          "output_type": "stream",
          "name": "stdout",
          "text": [
            "Average: 198.25\n",
            "Median: 199.0\n",
            "Standard Deviation: 14.635146053251399\n",
            "Correlation: [[1.         0.95865738]\n",
            " [0.95865738 1.        ]]\n"
          ]
        }
      ]
    },
    {
      "cell_type": "code",
      "source": [],
      "metadata": {
        "id": "WHEkvaScSIFT"
      },
      "execution_count": null,
      "outputs": []
    }
  ]
}